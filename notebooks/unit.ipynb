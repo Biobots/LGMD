{
 "cells": [
  {
   "cell_type": "code",
   "execution_count": 13,
   "metadata": {},
   "outputs": [],
   "source": [
    "import sys\n",
    "sys.path.insert(1, '../')\n",
    "\n",
    "from module.screen import Screen\n",
    "from module.movement import Rectangle\n",
    "from module.network import Network\n",
    "from module.config import Config\n",
    "\n",
    "import numpy as np\n",
    "import pandas as pd\n",
    "import plotly.express as px"
   ]
  },
  {
   "cell_type": "code",
   "execution_count": 14,
   "metadata": {},
   "outputs": [],
   "source": [
    "scr = Screen(200,200,5)\n",
    "network = Network(scr)"
   ]
  },
  {
   "cell_type": "code",
   "execution_count": 15,
   "metadata": {},
   "outputs": [],
   "source": [
    "x = []\n",
    "y = []\n",
    "for u in network.eunit:\n",
    "\tx.append(u.hex.coord.xy[0,0])\n",
    "\ty.append(u.hex.coord.xy[1,0])"
   ]
  },
  {
   "cell_type": "code",
   "execution_count": 16,
   "metadata": {},
   "outputs": [],
   "source": [
    "trace = []\n",
    "for i in range(0, 150):\n",
    "\ttrace.append([10,1,50])\n",
    "for i in range(0, 90):\n",
    "\ttrace.append([10+2*i,1,50])\n",
    "for i in range(0, 110):\n",
    "\ttrace.append([10+2*89,1,50])\n",
    "rec = Rectangle(trace, 5, 198)"
   ]
  },
  {
   "cell_type": "code",
   "execution_count": 17,
   "metadata": {},
   "outputs": [],
   "source": [
    "network.reset()"
   ]
  },
  {
   "cell_type": "code",
   "execution_count": 18,
   "metadata": {},
   "outputs": [],
   "source": [
    "df = pd.DataFrame(columns=['t', 'x', 'y', 'size'])\n",
    "tmp = []\n",
    "for i in range(0, 350):\n",
    "\tnetwork.update([rec])\n",
    "\tfor u in network.sunit:\n",
    "\t\ttmp.append({'t':i, 'x':u.hex.coord.xy[0, 0]*5, 'y':u.hex.coord.xy[1, 0]*5, 'size':u.output})\n",
    "df = df.append(tmp, ignore_index=True)"
   ]
  },
  {
   "cell_type": "code",
   "execution_count": 19,
   "metadata": {},
   "outputs": [
    {
     "data": {
      "text/plain": [
       "'temp-plot.html'"
      ]
     },
     "execution_count": 19,
     "metadata": {},
     "output_type": "execute_result"
    }
   ],
   "source": [
    "from plotly.offline import plot\n",
    "fig=px.scatter(df, x='x', y='y', animation_frame=\"t\", size='size', width=800, height=800)\n",
    "fig.layout.updatemenus[0].buttons[0].args[1]['frame']['duration'] = 30\n",
    "fig.layout.updatemenus[0].buttons[0].args[1]['transition']['duration'] = 5\n",
    "plot(fig)"
   ]
  }
 ],
 "metadata": {
  "interpreter": {
   "hash": "7edb24bc7ee3eafdc7ab870a0990ffe0593c27d7167b7639892306a5561cdf2a"
  },
  "kernelspec": {
   "display_name": "Python 3.8.10 64-bit ('lgmd_env': venv)",
   "name": "python3"
  },
  "language_info": {
   "codemirror_mode": {
    "name": "ipython",
    "version": 3
   },
   "file_extension": ".py",
   "mimetype": "text/x-python",
   "name": "python",
   "nbconvert_exporter": "python",
   "pygments_lexer": "ipython3",
   "version": "3.8.10"
  },
  "orig_nbformat": 4
 },
 "nbformat": 4,
 "nbformat_minor": 2
}
