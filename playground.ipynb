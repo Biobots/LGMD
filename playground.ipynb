{
 "cells": [
  {
   "cell_type": "code",
   "execution_count": 1,
   "metadata": {},
   "outputs": [],
   "source": [
    "from module.screen import Screen\n",
    "scr = Screen(800,600,6)"
   ]
  },
  {
   "cell_type": "code",
   "execution_count": 2,
   "metadata": {},
   "outputs": [
    {
     "data": {
      "text/plain": [
       "[[6, 15],\n",
       " [6, 16],\n",
       " [6, 17],\n",
       " [6, 18],\n",
       " [6, 19],\n",
       " [6, 20],\n",
       " [6, 21],\n",
       " [7, 14],\n",
       " [7, 15],\n",
       " [7, 16],\n",
       " [7, 17],\n",
       " [7, 18],\n",
       " [7, 19],\n",
       " [7, 20],\n",
       " [7, 21],\n",
       " [7, 22],\n",
       " [8, 14],\n",
       " [8, 15],\n",
       " [8, 16],\n",
       " [8, 17],\n",
       " [8, 18],\n",
       " [8, 19],\n",
       " [8, 20],\n",
       " [8, 21],\n",
       " [8, 22],\n",
       " [9, 13],\n",
       " [9, 14],\n",
       " [9, 15],\n",
       " [9, 16],\n",
       " [9, 17],\n",
       " [9, 18],\n",
       " [9, 19],\n",
       " [9, 20],\n",
       " [9, 21],\n",
       " [9, 22],\n",
       " [9, 23],\n",
       " [10, 13],\n",
       " [10, 14],\n",
       " [10, 15],\n",
       " [10, 16],\n",
       " [10, 17],\n",
       " [10, 18],\n",
       " [10, 19],\n",
       " [10, 20],\n",
       " [10, 21],\n",
       " [10, 22],\n",
       " [10, 23],\n",
       " [11, 13],\n",
       " [11, 14],\n",
       " [11, 15],\n",
       " [11, 16],\n",
       " [11, 17],\n",
       " [11, 18],\n",
       " [11, 19],\n",
       " [11, 20],\n",
       " [11, 21],\n",
       " [11, 22],\n",
       " [11, 23],\n",
       " [12, 13],\n",
       " [12, 14],\n",
       " [12, 15],\n",
       " [12, 16],\n",
       " [12, 17],\n",
       " [12, 18],\n",
       " [12, 19],\n",
       " [12, 20],\n",
       " [12, 21],\n",
       " [12, 22],\n",
       " [12, 23],\n",
       " [13, 14],\n",
       " [13, 15],\n",
       " [13, 16],\n",
       " [13, 17],\n",
       " [13, 18],\n",
       " [13, 19],\n",
       " [13, 20],\n",
       " [13, 21],\n",
       " [13, 22],\n",
       " [14, 15],\n",
       " [14, 16],\n",
       " [14, 17],\n",
       " [14, 18],\n",
       " [14, 19],\n",
       " [14, 20],\n",
       " [14, 21],\n",
       " [15, 15],\n",
       " [15, 16],\n",
       " [15, 17],\n",
       " [15, 18],\n",
       " [15, 19],\n",
       " [15, 20],\n",
       " [15, 21]]"
      ]
     },
     "execution_count": 2,
     "metadata": {},
     "output_type": "execute_result"
    }
   ],
   "source": [
    "scr.hexList[0].pixels"
   ]
  },
  {
   "cell_type": "code",
   "execution_count": 3,
   "metadata": {},
   "outputs": [
    {
     "name": "stdout",
     "output_type": "stream",
     "text": [
      "[[10.39230485]\n",
      " [18.        ]]\n",
      "[[0]\n",
      " [1]\n",
      " [1]]\n"
     ]
    }
   ],
   "source": [
    "print(scr.hexList[0].coord.xy*6)\n",
    "print(scr.hexList[0].coord.coord)"
   ]
  }
 ],
 "metadata": {
  "interpreter": {
   "hash": "7edb24bc7ee3eafdc7ab870a0990ffe0593c27d7167b7639892306a5561cdf2a"
  },
  "kernelspec": {
   "display_name": "Python 3.8.10 64-bit ('lgmd_env': venv)",
   "name": "python3"
  },
  "language_info": {
   "codemirror_mode": {
    "name": "ipython",
    "version": 3
   },
   "file_extension": ".py",
   "mimetype": "text/x-python",
   "name": "python",
   "nbconvert_exporter": "python",
   "pygments_lexer": "ipython3",
   "version": "3.8.10"
  },
  "orig_nbformat": 4
 },
 "nbformat": 4,
 "nbformat_minor": 2
}
